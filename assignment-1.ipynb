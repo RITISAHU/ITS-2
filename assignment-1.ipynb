{
 "cells": [
  {
   "cell_type": "code",
   "execution_count": 7,
   "metadata": {},
   "outputs": [
    {
     "name": "stdout",
     "output_type": "stream",
     "text": [
      "[1 2 3 4 5]\n",
      "Dimension: 1\n",
      "[[1 2 3]\n",
      " [4 5 6]]\n",
      "Dimension: 2\n",
      "[[[1 2]\n",
      "  [3 4]]\n",
      "\n",
      " [[5 6]\n",
      "  [7 8]]]\n",
      "Dimension: 3\n"
     ]
    }
   ],
   "source": [
    "import numpy as numpy\n",
    "import numpy as np\n",
    "\n",
    "a1 = np.array([1, 2, 3, 4, 5])\n",
    "print(a1)\n",
    "print(\"Dimension:\", a1.ndim)\n",
    "\n",
    "a2 = np.array([[1, 2, 3], [4, 5, 6]])\n",
    "print(a2)\n",
    "print(\"Dimension:\", a2.ndim)\n",
    "\n",
    "a3 = np.array([[[1, 2], [3, 4]], [[5, 6], [7, 8]]])\n",
    "print(a3)\n",
    "print(\"Dimension:\", a3.ndim)\n",
    "\n",
    "\n"
   ]
  },
  {
   "cell_type": "code",
   "execution_count": 12,
   "metadata": {},
   "outputs": [
    {
     "name": "stdout",
     "output_type": "stream",
     "text": [
      "Original array (int): [1 2 3 4 5]\n",
      "Converted array (float): [1. 2. 3. 4. 5.]\n"
     ]
    }
   ],
   "source": [
    "int_array = np.array([1, 2, 3, 4, 5])\n",
    "\n",
    "float_array = int_array.astype(float)\n",
    "\n",
    "print(\"Original array (int):\", int_array)\n",
    "print(\"Converted array (float):\", float_array)\n"
   ]
  },
  {
   "cell_type": "code",
   "execution_count": 14,
   "metadata": {},
   "outputs": [
    {
     "name": "stdout",
     "output_type": "stream",
     "text": [
      "[[17  8  9  5 15]\n",
      " [14 19  2  3  7]\n",
      " [18  1  6 25  0]]\n"
     ]
    }
   ],
   "source": [
    "import numpy as np\n",
    "\n",
    "data = \"\"\"17 8 9 5 15\n",
    "        14 19 2 3 7\n",
    "        18 1 6 25 0\"\"\"\n",
    "\n",
    "rows = data.strip().split('\\n')\n",
    "matrix = [list(map(int, row.split())) for row in rows]\n",
    "\n",
    "numpy_matrix = np.array(matrix)\n",
    "\n",
    "print(numpy_matrix)\n"
   ]
  },
  {
   "cell_type": "code",
   "execution_count": 15,
   "metadata": {},
   "outputs": [
    {
     "name": "stdout",
     "output_type": "stream",
     "text": [
      "Value 0: 0\n",
      "Value 3: 3\n",
      "Value 19: 19\n"
     ]
    }
   ],
   "source": [
    "matrix = np.array([[17, 8, 9, 5, 15],\n",
    "                   [14, 19, 2, 3, 7],\n",
    "                   [18, 1, 6, 25, 0]])\n",
    "\n",
    "value_0 = matrix[2, 4]  \n",
    "value_3 = matrix[1, 3]  \n",
    "value_19 = matrix[1, 1]  \n",
    "\n",
    "print(\"Value 0:\", value_0)\n",
    "print(\"Value 3:\", value_3)\n",
    "print(\"Value 19:\", value_19)\n"
   ]
  },
  {
   "cell_type": "code",
   "execution_count": 17,
   "metadata": {},
   "outputs": [
    {
     "name": "stdout",
     "output_type": "stream",
     "text": [
      "2\n"
     ]
    }
   ],
   "source": [
    "matrix = np.array([[17, 8, 9, 5, 15],\n",
    "                   [14, 19, 2, 3, 7],\n",
    "                   [18, 1, 6, 25, 0]])\n",
    "\n",
    "\n",
    "a = matrix[1, 2] \n",
    "print(a)"
   ]
  },
  {
   "cell_type": "code",
   "execution_count": 18,
   "metadata": {},
   "outputs": [
    {
     "name": "stdout",
     "output_type": "stream",
     "text": [
      "15\n"
     ]
    }
   ],
   "source": [
    "b = matrix[0, 4] \n",
    "print(b)"
   ]
  },
  {
   "cell_type": "code",
   "execution_count": 20,
   "metadata": {},
   "outputs": [
    {
     "name": "stdout",
     "output_type": "stream",
     "text": [
      "Elements from row 1: [17  8]\n",
      "Elements from row 2: [14 19]\n"
     ]
    }
   ],
   "source": [
    "    b = np.array([[17, 8, 9, 5, 15],\n",
    "              [14, 19, 2, 3, 7],\n",
    "              [18, 1, 6, 25, 0]])\n",
    "\n",
    "\n",
    "r1 = b[0, 0:2]  \n",
    "r2 = b[1, 0:2]  \n",
    "\n",
    "print(\"Elements from row 1:\", r1)\n",
    "print(\"Elements from row 2:\", r2)\n",
    "\n"
   ]
  },
  {
   "cell_type": "code",
   "execution_count": 21,
   "metadata": {},
   "outputs": [
    {
     "name": "stdout",
     "output_type": "stream",
     "text": [
      "Elements from row 2: [19  2]\n",
      "Elements from row 3: [1 6]\n"
     ]
    }
   ],
   "source": [
    "r3 = b[1, 1:3] \n",
    "r4 = b[2, 1:3]  \n",
    "\n",
    "print(\"Elements from row 2:\", r3)\n",
    "print(\"Elements from row 3:\", r4)"
   ]
  },
  {
   "cell_type": "code",
   "execution_count": 22,
   "metadata": {},
   "outputs": [
    {
     "name": "stdout",
     "output_type": "stream",
     "text": [
      "Elements from row 1: [ 5 15]\n",
      "Elements from row 2 and 3: [[ 2  3  7]\n",
      " [ 6 25  0]]\n"
     ]
    }
   ],
   "source": [
    "r5 = b[0, 3:5] \n",
    "r6 = b[1:3, 2:5]  \n",
    "\n",
    "print(\"Elements from row 1:\", r5)\n",
    "print(\"Elements from row 2 and 3:\", r6)\n"
   ]
  },
  {
   "cell_type": "code",
   "execution_count": 23,
   "metadata": {},
   "outputs": [
    {
     "name": "stdout",
     "output_type": "stream",
     "text": [
      "[[1. 0. 0. 0. 0.]\n",
      " [0. 1. 0. 0. 0.]\n",
      " [0. 0. 1. 0. 0.]\n",
      " [0. 0. 0. 1. 0.]\n",
      " [0. 0. 0. 0. 1.]]\n"
     ]
    }
   ],
   "source": [
    "identity_matrix = np.identity(5)\n",
    "print(identity_matrix)"
   ]
  },
  {
   "cell_type": "code",
   "execution_count": 24,
   "metadata": {},
   "outputs": [
    {
     "name": "stdout",
     "output_type": "stream",
     "text": [
      "[ 0.          1.11111111  2.22222222  3.33333333  4.44444444  5.55555556\n",
      "  6.66666667  7.77777778  8.88888889 10.        ]\n"
     ]
    }
   ],
   "source": [
    "#  Print 10 evenly spaced points from 0 to 10.\n",
    "\n",
    "points = np.linspace(0, 10, num=10)\n",
    "print(points)\n"
   ]
  },
  {
   "cell_type": "code",
   "execution_count": 31,
   "metadata": {},
   "outputs": [
    {
     "name": "stdout",
     "output_type": "stream",
     "text": [
      "[811 300 252 177 482 203 574 417 218 133]\n"
     ]
    }
   ],
   "source": [
    "# Print 10 int value within range of 9 to 900\n",
    "\n",
    "int_values = np.random.randint(9, 901, size=10)\n",
    "print(int_values)\n"
   ]
  },
  {
   "cell_type": "code",
   "execution_count": 32,
   "metadata": {},
   "outputs": [
    {
     "name": "stdout",
     "output_type": "stream",
     "text": [
      "[[12  3  5]\n",
      " [98 56 78]\n",
      " [ 5  8  9]]\n"
     ]
    }
   ],
   "source": [
    "# From this nested list, lst = [[12,3,5],[98,56,78],[5,8,9]] make a numpy array ?\n",
    "\n",
    "\n",
    "lst = [[12, 3, 5], [98, 56, 78], [5, 8, 9]]\n",
    "numpy_array = np.array(lst)\n",
    "\n",
    "print(numpy_array)\n"
   ]
  },
  {
   "cell_type": "code",
   "execution_count": 33,
   "metadata": {},
   "outputs": [
    {
     "name": "stdout",
     "output_type": "stream",
     "text": [
      "[[12  3  5]\n",
      " [98 56 78]\n",
      " [ 5  8  9]]\n"
     ]
    }
   ],
   "source": [
    "#  Lst = [12,3,5,98,56,78,5,8,9] from this list make a 3*3 matrix? \n",
    "\n",
    "\n",
    "Lst = [12, 3, 5, 98, 56, 78, 5, 8, 9]\n",
    "matrix = np.array(Lst).reshape(3, 3)\n",
    "\n",
    "print(matrix)\n"
   ]
  },
  {
   "cell_type": "code",
   "execution_count": 36,
   "metadata": {},
   "outputs": [
    {
     "name": "stdout",
     "output_type": "stream",
     "text": [
      "96\n",
      "54\n",
      "42\n"
     ]
    }
   ],
   "source": [
    "#  ARR = np.array([5,8,7,96,54,0,42]) from this array print only those numbers greater than 10\n",
    "\n",
    "\n",
    "ARR = np.array([5, 8, 7, 96, 54, 0, 42])\n",
    "\n",
    "for num in ARR:\n",
    "    if num > 10:\n",
    "        print(num)\n",
    "\n",
    "    \n"
   ]
  },
  {
   "cell_type": "code",
   "execution_count": 37,
   "metadata": {},
   "outputs": [
    {
     "name": "stdout",
     "output_type": "stream",
     "text": [
      "Evenly spaced points: [40.         44.44444444 48.88888889 53.33333333 57.77777778 62.22222222\n",
      " 66.66666667 71.11111111 75.55555556 80.        ]\n",
      "Step size: 4.444444444444445\n"
     ]
    }
   ],
   "source": [
    "#  Print 10 evenly spaced points from 40 to 80 and also print step size\n",
    "\n",
    "import numpy as np\n",
    "\n",
    "start = 40\n",
    "stop = 80\n",
    "num_points = 10\n",
    "\n",
    "points = np.linspace(start, stop, num_points)\n",
    "step_size = (stop - start) / (num_points - 1)\n",
    "\n",
    "print(\"Evenly spaced points:\", points)\n",
    "print(\"Step size:\", step_size)\n"
   ]
  },
  {
   "cell_type": "code",
   "execution_count": 38,
   "metadata": {},
   "outputs": [
    {
     "name": "stdout",
     "output_type": "stream",
     "text": [
      "[ 5.  6.  7.  8.  9. 10.]\n"
     ]
    }
   ],
   "source": [
    "# What will be the output of the following? a) range(5,10.5) b) arange(5,10.5)\n",
    "\n",
    "\n",
    "array_b = np.arange(5, 10.5)\n",
    "print(array_b)\n"
   ]
  },
  {
   "cell_type": "code",
   "execution_count": 39,
   "metadata": {},
   "outputs": [
    {
     "name": "stdout",
     "output_type": "stream",
     "text": [
      "3x4 matrix:\n",
      "[[ 0  1  2  3]\n",
      " [ 4  5  6  7]\n",
      " [ 8  9 10 11]]\n",
      "4x3 matrix:\n",
      "[[ 0  1  2]\n",
      " [ 3  4  5]\n",
      " [ 6  7  8]\n",
      " [ 9 10 11]]\n",
      "2x6 matrix:\n",
      "[[ 0  1  2  3  4  5]\n",
      " [ 6  7  8  9 10 11]]\n",
      "6x2 matrix:\n",
      "[[ 0  1]\n",
      " [ 2  3]\n",
      " [ 4  5]\n",
      " [ 6  7]\n",
      " [ 8  9]\n",
      " [10 11]]\n"
     ]
    }
   ],
   "source": [
    "# Make an array using arange functions, x=np.arange(12) and reshape the array in 3*4, 4*3, 2*6, 6*2 matrix.\n",
    "\n",
    "x = np.arange(12)\n",
    "\n",
    "\n",
    "matrix_3x4 = x.reshape(3, 4)\n",
    "print(\"3x4 matrix:\")\n",
    "print(matrix_3x4)\n",
    "\n",
    "matrix_4x3 = x.reshape(4, 3)\n",
    "print(\"4x3 matrix:\")\n",
    "print(matrix_4x3)\n",
    "\n",
    "matrix_2x6 = x.reshape(2, 6)\n",
    "print(\"2x6 matrix:\")\n",
    "print(matrix_2x6)\n",
    "\n",
    "matrix_6x2 = x.reshape(6, 2)\n",
    "print(\"6x2 matrix:\")\n",
    "print(matrix_6x2)\n"
   ]
  },
  {
   "cell_type": "code",
   "execution_count": 40,
   "metadata": {},
   "outputs": [
    {
     "name": "stdout",
     "output_type": "stream",
     "text": [
      "Original array: [12  3  5 98 56 78  5]\n",
      "Array after adding 100: [112 103 105 198 156 178 105]\n"
     ]
    }
   ],
   "source": [
    "# Convert this list lst = [12,3,5,98,56,78,5] to an array and add 100 with each element.\n",
    "\n",
    "lst = [12, 3, 5, 98, 56, 78, 5]\n",
    "array = np.array(lst)  # Convert the list to a NumPy array\n",
    "array_plus_100 = array + 100\n",
    "\n",
    "print(\"Original array:\", array)\n",
    "print(\"Array after adding 100:\", array_plus_100)\n",
    "\n"
   ]
  },
  {
   "cell_type": "code",
   "execution_count": 41,
   "metadata": {},
   "outputs": [
    {
     "name": "stdout",
     "output_type": "stream",
     "text": [
      "Original array: [12  3  5  9  8 20]\n",
      "Array after square root: [3.46410162 1.73205081 2.23606798 3.         2.82842712 4.47213595]\n"
     ]
    }
   ],
   "source": [
    "# Convert this list lst = [12,3,5,9,8,20] to an array and square root each and every element\n",
    "\n",
    "import numpy as np\n",
    "\n",
    "lst = [12, 3, 5, 9, 8, 20]\n",
    "array = np.array(lst)  # Convert the list to a NumPy array\n",
    "array_sqrt = np.sqrt(array)\n",
    "\n",
    "print(\"Original array:\", array)\n",
    "print(\"Array after square root:\", array_sqrt)\n"
   ]
  },
  {
   "cell_type": "code",
   "execution_count": 42,
   "metadata": {},
   "outputs": [
    {
     "name": "stdout",
     "output_type": "stream",
     "text": [
      "Matrix:\n",
      "[[ 0  6]\n",
      " [ 1  7]\n",
      " [ 2  8]\n",
      " [ 3  9]\n",
      " [ 4 10]\n",
      " [ 5 11]]\n",
      "Total sum: 66\n",
      "Row-wise sum: [ 6  8 10 12 14 16]\n",
      "Column-wise sum: [15 51]\n"
     ]
    }
   ],
   "source": [
    "#  What is the total sum,row-wise sum and column-wise sum of this matrix? ([[ 0, 6], [ 1, 7], [ 2, 8], [ 3, 9], [ 4, 10], [ 5, 11]]) \n",
    "\n",
    "matrix = np.array([[0, 6], [1, 7], [2, 8], [3, 9], [4, 10], [5, 11]])\n",
    "\n",
    "total_sum = np.sum(matrix)\n",
    "row_sum = np.sum(matrix, axis=1)\n",
    "col_sum = np.sum(matrix, axis=0)\n",
    "\n",
    "print(\"Matrix:\")\n",
    "print(matrix)\n",
    "print(\"Total sum:\", total_sum)\n",
    "print(\"Row-wise sum:\", row_sum)\n",
    "print(\"Column-wise sum:\", col_sum)\n"
   ]
  },
  {
   "cell_type": "code",
   "execution_count": 44,
   "metadata": {},
   "outputs": [
    {
     "name": "stdout",
     "output_type": "stream",
     "text": [
      "Matrix m1: [[23 32]\n",
      " [54 14]]\n",
      "Matrix m2: [[32 20]\n",
      " [25 33]]\n",
      "Matrix multiplication result: [[1536 1516]\n",
      " [2078 1542]]\n"
     ]
    }
   ],
   "source": [
    "# . Multiply this two matrix, m1=np.array([[23, 32], [54, 14]]), m2=np.array([[32, 20], [25, 33]])\n",
    "\n",
    "import numpy as np\n",
    "\n",
    "m1 = np.array([[23, 32], [54, 14]])\n",
    "m2 = np.array([[32, 20], [25, 33]])\n",
    "\n",
    "result = np.dot(m1, m2)\n",
    "\n",
    "print(\"Matrix m1:\", m1)\n",
    "print(\"Matrix m2:\", m2)\n",
    "print(\"Matrix multiplication result:\", result)\n",
    "\n"
   ]
  },
  {
   "cell_type": "code",
   "execution_count": 46,
   "metadata": {},
   "outputs": [
    {
     "name": "stdout",
     "output_type": "stream",
     "text": [
      "Point p1: [1 5 3]\n",
      "Point p2: [1 2 2]\n",
      "Euclidean distance: 3.1622776601683795\n"
     ]
    }
   ],
   "source": [
    "# Calculate Euclidean Distance between this two point p1=np.array((1, 5, 3)), p2=np.array((1, 2, 2))\n",
    "\n",
    "p1 = np.array((1, 5, 3))\n",
    "p2 = np.array((1, 2, 2))\n",
    "\n",
    "distance = np.linalg.norm(p2 - p1)\n",
    "\n",
    "print(\"Point p1:\", p1)\n",
    "print(\"Point p2:\", p2)\n",
    "print(\"Euclidean distance:\", distance)\n"
   ]
  },
  {
   "cell_type": "code",
   "execution_count": 47,
   "metadata": {},
   "outputs": [
    {
     "name": "stdout",
     "output_type": "stream",
     "text": [
      "Array a1:\n",
      "[[1 2 3]\n",
      " [4 5 6]\n",
      " [7 8 9]]\n",
      "Mean row-wise: [2. 5. 8.]\n",
      "Mean column-wise: [4. 5. 6.]\n"
     ]
    }
   ],
   "source": [
    "#  Convert this list into a numpy array, a1=np.array([[1,2,3],[4,5,6],[7,8,9]]) and find out the mean row wise and axis wise? \n",
    "\n",
    "a1 = np.array([[1, 2, 3],\n",
    "              [4, 5, 6],\n",
    "              [7, 8, 9]])\n",
    "\n",
    "mean_row_wise = np.mean(a1, axis=1)\n",
    "mean_column_wise = np.mean(a1, axis=0)\n",
    "\n",
    "print(\"Array a1:\")\n",
    "print(a1)\n",
    "print(\"Mean row-wise:\", mean_row_wise)\n",
    "print(\"Mean column-wise:\", mean_column_wise)\n"
   ]
  },
  {
   "cell_type": "code",
   "execution_count": 48,
   "metadata": {},
   "outputs": [
    {
     "name": "stdout",
     "output_type": "stream",
     "text": [
      "Array a:\n",
      "[[ 1. nan  4.  5.]\n",
      " [ 3.  4. nan  5.]\n",
      " [ 8.  7. nan  9.]]\n",
      "Total mean: 5.111111111111111\n",
      "Row-wise mean: [3.33333333 4.         8.        ]\n",
      "Column-wise mean: [4.         5.5        4.         6.33333333]\n"
     ]
    }
   ],
   "source": [
    "#  what will be the total mean, row wise mean and column wise mean of this array, a = np.array([[1, np.nan,4,5], [3, 4, np.nan,5],[8, 7, np.nan,9]])\n",
    "\n",
    "a = np.array([[1, np.nan, 4, 5],\n",
    "              [3, 4, np.nan, 5],\n",
    "              [8, 7, np.nan, 9]])\n",
    "\n",
    "total_mean = np.nanmean(a)\n",
    "row_mean = np.nanmean(a, axis=1)\n",
    "column_mean = np.nanmean(a, axis=0)\n",
    "\n",
    "print(\"Array a:\")\n",
    "print(a)\n",
    "print(\"Total mean:\", total_mean)\n",
    "print(\"Row-wise mean:\", row_mean)\n",
    "print(\"Column-wise mean:\", column_mean)\n"
   ]
  },
  {
   "cell_type": "code",
   "execution_count": null,
   "metadata": {},
   "outputs": [],
   "source": []
  }
 ],
 "metadata": {
  "kernelspec": {
   "display_name": "Python 3",
   "language": "python",
   "name": "python3"
  },
  "language_info": {
   "codemirror_mode": {
    "name": "ipython",
    "version": 3
   },
   "file_extension": ".py",
   "mimetype": "text/x-python",
   "name": "python",
   "nbconvert_exporter": "python",
   "pygments_lexer": "ipython3",
   "version": "3.10.11"
  },
  "orig_nbformat": 4
 },
 "nbformat": 4,
 "nbformat_minor": 2
}
