{
 "cells": [
  {
   "cell_type": "code",
   "execution_count": 55,
   "metadata": {},
   "outputs": [
    {
     "name": "stdout",
     "output_type": "stream",
     "text": [
      "1\n",
      "2\n",
      "3\n"
     ]
    }
   ],
   "source": [
    "for element in [1, 2, 3]:\n",
    "    print(element)\n"
   ]
  },
  {
   "cell_type": "code",
   "execution_count": null,
   "metadata": {},
   "outputs": [
    {
     "data": {
      "text/plain": [
       "<__main__.Abc at 0xaa107a920>"
      ]
     },
     "execution_count": 6,
     "metadata": {},
     "output_type": "execute_result"
    }
   ],
   "source": [
    "# object oriented programming\n",
    "#class - template\n",
    "#object - instance\n",
    "class Abc:\n",
    "    pass\n",
    "x = Abc()\n",
    "x"
   ]
  },
  {
   "cell_type": "code",
   "execution_count": null,
   "metadata": {},
   "outputs": [],
   "source": [
    "# A class may have\n",
    "### 1. methods and functions\n",
    "# user defined function\n",
    "# special methods/dendurs/magic methods\n",
    "# decorated methods \n",
    "\n",
    "##### inheritance\n",
    "\n",
    "# single\n"
   ]
  },
  {
   "cell_type": "code",
   "execution_count": null,
   "metadata": {},
   "outputs": [
    {
     "name": "stdout",
     "output_type": "stream",
     "text": [
      "<__main__.Abc object at 0x0000000AA1079120>\n",
      "10 20\n"
     ]
    }
   ],
   "source": [
    "class Abc():\n",
    "    a = 10\n",
    "    b = 20\n",
    "    def show(p):\n",
    "        print(p.a,Abc.b)\n",
    "        \n",
    "x = Abc()\n",
    "print(x)\n",
    "x.show()  "
   ]
  },
  {
   "cell_type": "code",
   "execution_count": null,
   "metadata": {},
   "outputs": [],
   "source": [
    "x.a = 45\n",
    "y.a = 55\n",
    "Abc.b = 100\n"
   ]
  },
  {
   "cell_type": "code",
   "execution_count": null,
   "metadata": {},
   "outputs": [],
   "source": [
    "y = Abc()\n",
    "z = Abc()\n"
   ]
  },
  {
   "cell_type": "code",
   "execution_count": null,
   "metadata": {},
   "outputs": [
    {
     "name": "stdout",
     "output_type": "stream",
     "text": [
      "10 100\n"
     ]
    }
   ],
   "source": [
    "y.show()"
   ]
  },
  {
   "cell_type": "code",
   "execution_count": null,
   "metadata": {},
   "outputs": [
    {
     "name": "stdout",
     "output_type": "stream",
     "text": [
      "10 100\n"
     ]
    }
   ],
   "source": [
    "z.show()"
   ]
  },
  {
   "cell_type": "code",
   "execution_count": null,
   "metadata": {},
   "outputs": [
    {
     "name": "stdout",
     "output_type": "stream",
     "text": [
      "45 100\n",
      "10 100\n",
      "10 100\n"
     ]
    }
   ],
   "source": [
    "x.show()\n",
    "y.show()\n",
    "z.show()"
   ]
  },
  {
   "cell_type": "code",
   "execution_count": null,
   "metadata": {},
   "outputs": [
    {
     "name": "stdout",
     "output_type": "stream",
     "text": [
      "hi\n",
      "20 20\n",
      "20 20\n",
      "20 20\n",
      "20 30\n",
      "20 30\n",
      "20 30\n",
      "30 30\n"
     ]
    }
   ],
   "source": [
    "class Abc():\n",
    "    a = 10\n",
    "    b = 20\n",
    "    def __init__(self,a = 10,b = 20):\n",
    "        self.a = b\n",
    "        Abc.b = b\n",
    "    def __str__(self) -> str:\n",
    "        return \"hi\"\n",
    "    \n",
    "    #def __call__(self,*args: Any, **:Any) -> Any:\n",
    "     #   return sum(Args)\n",
    "        \n",
    "    def show(self):\n",
    "        print(self.a, Abc.b)\n",
    "        \n",
    "x = Abc()\n",
    "print(x)\n",
    "y = Abc(a = 30)\n",
    "z = Abc(a = 35)\n",
    "x.show(); y.show(); z.show()\n",
    "w = Abc(b = 30)\n",
    "x.show(); y.show(); z.show(); w.show()\n",
    "#x(5,8,2,5,7,4)\n",
    "            "
   ]
  },
  {
   "cell_type": "code",
   "execution_count": 54,
   "metadata": {},
   "outputs": [
    {
     "name": "stdout",
     "output_type": "stream",
     "text": [
      "its simple\n",
      "20\n"
     ]
    }
   ],
   "source": [
    "class Pqr(Abc):\n",
    "    \n",
    "    def __init__(Self, a=10, b=20):\n",
    "        super().__init__(a,b)\n",
    "    def simple(Self):\n",
    "        print(\"its simple\")\n",
    "    def show(self):\n",
    "        print(self.a)    \n",
    "\n",
    "p = Pqr(a = 30)\n",
    "p.simple()\n",
    "\n",
    "p.show() \n",
    "#p()       "
   ]
  },
  {
   "cell_type": "code",
   "execution_count": 2,
   "metadata": {},
   "outputs": [
    {
     "ename": "AttributeError",
     "evalue": "module 'tkinter' has no attribute 'variable'",
     "output_type": "error",
     "traceback": [
      "\u001b[1;31m---------------------------------------------------------------------------\u001b[0m",
      "\u001b[1;31mAttributeError\u001b[0m                            Traceback (most recent call last)",
      "Cell \u001b[1;32mIn[2], line 9\u001b[0m\n\u001b[0;32m      6\u001b[0m app\u001b[39m.\u001b[39mgeometry(\u001b[39m\"\u001b[39m\u001b[39m400x400\u001b[39m\u001b[39m\"\u001b[39m)\n\u001b[0;32m      7\u001b[0m app\u001b[39m.\u001b[39mtitle(\u001b[39m\"\u001b[39m\u001b[39mMy First GUI\u001b[39m\u001b[39m\"\u001b[39m)\n\u001b[1;32m----> 9\u001b[0m var1 \u001b[39m=\u001b[39m Ktr\u001b[39m.\u001b[39;49mvariable()\n\u001b[0;32m     10\u001b[0m var1 \u001b[39m=\u001b[39m \u001b[39mset\u001b[39m()\n\u001b[0;32m     12\u001b[0m \u001b[39m#a = Ktr.Label(app, text = \"Mera Phela Text\")\u001b[39;00m\n",
      "\u001b[1;31mAttributeError\u001b[0m: module 'tkinter' has no attribute 'variable'"
     ]
    }
   ],
   "source": [
    "#############\n",
    "## GUI Development  ##\n",
    "import tkinter as Ktr\n",
    "\n",
    "app = Ktr.Tk(__name__)\n",
    "app.geometry(\"400x400\")\n",
    "app.title(\"My First GUI\")\n",
    "\n",
    "var1 = Ktr.variable()\n",
    "var1 = set(\"Initial Value\")\n",
    "\n",
    "#a = Ktr.Label(app, text = \"Mera Phela Text\")\n",
    "a = Ktr.Label(app, textvariable-var1)\n",
    "a.grid(row=0,column=1)\n",
    "\n",
    "a.pack()\n",
    "\n",
    "Ktr.Label(app, text = \"ye dusera threka ha\").pack()\n",
    "\n",
    "\n",
    "app.mainloop()"
   ]
  },
  {
   "cell_type": "code",
   "execution_count": 1,
   "metadata": {},
   "outputs": [],
   "source": [
    "import tkinter\n",
    "m = tkinter.Tk()\n",
    "\n",
    "\n",
    "m.mainloop()\n"
   ]
  },
  {
   "cell_type": "code",
   "execution_count": 2,
   "metadata": {},
   "outputs": [],
   "source": [
    "import tkinter as tk\n",
    "r = tk.Tk()\n",
    "r.title('Counting Seconds')\n",
    "button = tk.Button(r, text='Stop', width=25, command=r.destroy)\n",
    "button.pack()\n",
    "r.mainloop()\n"
   ]
  },
  {
   "cell_type": "code",
   "execution_count": 3,
   "metadata": {},
   "outputs": [],
   "source": [
    "from tkinter import *\n",
    "master = Tk()\n",
    "w = Canvas(master, width=40, height=60)\n",
    "w.pack()\n",
    "canvas_height=20\n",
    "canvas_width=200\n",
    "y = int(canvas_height / 2)\n",
    "w.create_line(0, y, canvas_width, y )\n",
    "mainloop()\n"
   ]
  },
  {
   "cell_type": "code",
   "execution_count": 6,
   "metadata": {},
   "outputs": [],
   "source": [
    "from tkinter import *\n",
    "master = Tk()\n",
    "Label(master, text='First Name').grid(row=0)\n",
    "Label(master, text='Last Name').grid(row=1)\n",
    "e1 = Entry(master)\n",
    "e2 = Entry(master)\n",
    "e1.grid(row=0, column=1)\n",
    "e2.grid(row=1, column=1)\n",
    "mainloop()\n",
    "\n"
   ]
  },
  {
   "cell_type": "code",
   "execution_count": 7,
   "metadata": {},
   "outputs": [],
   "source": [
    "from tkinter import *\n",
    "\n",
    "root = Tk()\n",
    "frame = Frame(root)\n",
    "frame.pack()\n",
    "bottomframe = Frame(root)\n",
    "bottomframe.pack( side = BOTTOM )\n",
    "redbutton = Button(frame, text = 'Red', fg ='red')\n",
    "redbutton.pack( side = LEFT)\n",
    "greenbutton = Button(frame, text = 'Brown', fg='brown')\n",
    "greenbutton.pack( side = LEFT )\n",
    "bluebutton = Button(frame, text ='Blue', fg ='blue')\n",
    "bluebutton.pack( side = LEFT )\n",
    "blackbutton = Button(bottomframe, text ='Black', fg ='black')\n",
    "blackbutton.pack( side = BOTTOM)\n",
    "root.mainloop()\n"
   ]
  },
  {
   "cell_type": "code",
   "execution_count": 8,
   "metadata": {},
   "outputs": [],
   "source": [
    "from tkinter import *\n",
    "root = Tk()\n",
    "w = Label(root, text='AI And DL Intern')\n",
    "w.pack()\n",
    "root.mainloop()\n"
   ]
  },
  {
   "cell_type": "code",
   "execution_count": 9,
   "metadata": {},
   "outputs": [],
   "source": [
    "\n",
    "from tkinter import *\n",
    "\n",
    "top = Tk()\n",
    "Lb = Listbox(top)\n",
    "Lb.insert(1, 'Python')\n",
    "Lb.insert(2, 'Java')\n",
    "Lb.insert(3, 'C++')\n",
    "Lb.insert(4, 'Any other')\n",
    "Lb.pack()\n",
    "top.mainloop()\n"
   ]
  },
  {
   "cell_type": "code",
   "execution_count": 10,
   "metadata": {},
   "outputs": [],
   "source": [
    "from tkinter import *\n",
    "\n",
    "top = Tk()\n",
    "mb = Menubutton ( top, text = \"AI And DL\")\n",
    "mb.grid()\n",
    "mb.menu = Menu ( mb, tearoff = 0 )\n",
    "mb[\"menu\"] = mb.menu\n",
    "cVar = IntVar()\n",
    "aVar = IntVar()\n",
    "mb.menu.add_checkbutton ( label ='Contact', variable = cVar )\n",
    "mb.menu.add_checkbutton ( label = 'About', variable = aVar )\n",
    "mb.pack()\n",
    "top.mainloop()\n"
   ]
  },
  {
   "cell_type": "code",
   "execution_count": 3,
   "metadata": {},
   "outputs": [
    {
     "name": "stdout",
     "output_type": "stream",
     "text": [
      "Requirement already satisfied: numpy in c:\\users\\ritik\\appdata\\local\\programs\\python\\python310\\lib\\site-packages (1.25.1)"
     ]
    },
    {
     "name": "stderr",
     "output_type": "stream",
     "text": [
      "\n",
      "[notice] A new release of pip is available: 23.0.1 -> 23.2.1\n",
      "[notice] To update, run: python.exe -m pip install --upgrade pip\n"
     ]
    },
    {
     "name": "stdout",
     "output_type": "stream",
     "text": [
      "\n"
     ]
    }
   ],
   "source": [
    "!python -m pip install numpy\n"
   ]
  },
  {
   "cell_type": "code",
   "execution_count": 4,
   "metadata": {},
   "outputs": [],
   "source": [
    "import numpy as np"
   ]
  },
  {
   "cell_type": "code",
   "execution_count": 5,
   "metadata": {},
   "outputs": [
    {
     "data": {
      "text/plain": [
       "array([ 3,  8,  4, 89, 45])"
      ]
     },
     "execution_count": 5,
     "metadata": {},
     "output_type": "execute_result"
    }
   ],
   "source": [
    "# numpt datatypes\n",
    "## Numpy.nd.array\n",
    "\n",
    "a = np.array([3,8,4,89,45])\n",
    "a"
   ]
  },
  {
   "cell_type": "code",
   "execution_count": 6,
   "metadata": {},
   "outputs": [
    {
     "data": {
      "text/plain": [
       "numpy.ndarray"
      ]
     },
     "execution_count": 6,
     "metadata": {},
     "output_type": "execute_result"
    }
   ],
   "source": [
    "type(a)"
   ]
  },
  {
   "cell_type": "code",
   "execution_count": 10,
   "metadata": {},
   "outputs": [
    {
     "name": "stdout",
     "output_type": "stream",
     "text": [
      "(5,)\n",
      "5\n",
      "int32\n"
     ]
    },
    {
     "data": {
      "text/plain": [
       "5"
      ]
     },
     "execution_count": 10,
     "metadata": {},
     "output_type": "execute_result"
    }
   ],
   "source": [
    "print(a.shape)\n",
    "print(a.size)\n",
    "print(a.dtype)\n",
    "len(a)"
   ]
  },
  {
   "cell_type": "code",
   "execution_count": 11,
   "metadata": {},
   "outputs": [],
   "source": [
    "def show_array(arr):\n",
    "    print('Array:', arr, sep='\\n')\n",
    "    print('Type:', type(arr))\n",
    "    print('Shape:', arr.shape)\n",
    "    print('Size:', arr.size)\n",
    "    print('DType:', arr.dtype)\n",
    "    print('Length:', len(arr))\n",
    "    print('Dimension:', arr.ndim)"
   ]
  },
  {
   "cell_type": "code",
   "execution_count": 12,
   "metadata": {},
   "outputs": [
    {
     "name": "stdout",
     "output_type": "stream",
     "text": [
      "Array:\n",
      "[[10 11 13 14]\n",
      " [45 22  9  2]\n",
      " [ 6  5  1  8]]\n",
      "Type: <class 'numpy.ndarray'>\n",
      "Shape: (3, 4)\n",
      "Size: 12\n",
      "DType: int32\n",
      "Length: 3\n",
      "Dimension: 2\n"
     ]
    }
   ],
   "source": [
    "\n",
    "# 10  11  13  14\n",
    "# 45  22   9   2\n",
    "# 6    5   1   8\n",
    "b = np.array([[10,11,13,14], [45,22,9,2], [6,5,1,8]])\n",
    "show_array(b)"
   ]
  },
  {
   "cell_type": "code",
   "execution_count": 13,
   "metadata": {},
   "outputs": [
    {
     "data": {
      "text/plain": [
       "array([6, 5, 1, 8])"
      ]
     },
     "execution_count": 13,
     "metadata": {},
     "output_type": "execute_result"
    }
   ],
   "source": [
    "b[2,:]"
   ]
  },
  {
   "cell_type": "code",
   "execution_count": 14,
   "metadata": {},
   "outputs": [
    {
     "name": "stdout",
     "output_type": "stream",
     "text": [
      "Array:\n",
      "[[[ 10 100]\n",
      "  [ 11 110]\n",
      "  [ 13 130]\n",
      "  [ 14 140]]\n",
      "\n",
      " [[ 45 145]\n",
      "  [ 22 122]\n",
      "  [  9  19]\n",
      "  [  2  12]]\n",
      "\n",
      " [[  6  16]\n",
      "  [  5  15]\n",
      "  [  1  11]\n",
      "  [  8  18]]]\n",
      "Type: <class 'numpy.ndarray'>\n",
      "Shape: (3, 4, 2)\n",
      "Size: 24\n",
      "DType: int32\n",
      "Length: 3\n",
      "Dimension: 3\n"
     ]
    }
   ],
   "source": [
    " # 100  110  130  140\n",
    "                # 145  122   19   12\n",
    "                # 16    15   11   18\n",
    "# 10  11  13  14\n",
    "# 45  22   9   2\n",
    "# 6    5   1   8\n",
    "c = np.array([[[10,100],[11,110],[13,130],[14,140]], \n",
    "              [[45,145],[22,122],[9,19],[2,12]],\n",
    "              [[6,16],[5,15],[1,11],[8,18]]])\n",
    "show_array(c)"
   ]
  },
  {
   "cell_type": "code",
   "execution_count": 15,
   "metadata": {},
   "outputs": [
    {
     "data": {
      "text/plain": [
       "array([[10, 11, 13, 14],\n",
       "       [45, 22,  9,  2],\n",
       "       [ 6,  5,  1,  8]])"
      ]
     },
     "execution_count": 15,
     "metadata": {},
     "output_type": "execute_result"
    }
   ],
   "source": [
    "# Array Operations\n",
    "### 1. Item Accessing: Subscripting, Slicing\n",
    "### 2. Item Assignment\n",
    "### 3. Item Insertion\n",
    "### 4. Item Deletion\n",
    "### 5. Arithmetic\n",
    "\n",
    "b"
   ]
  },
  {
   "cell_type": "code",
   "execution_count": 16,
   "metadata": {},
   "outputs": [
    {
     "data": {
      "text/plain": [
       "array([[13],\n",
       "       [ 9],\n",
       "       [ 1]])"
      ]
     },
     "execution_count": 16,
     "metadata": {},
     "output_type": "execute_result"
    }
   ],
   "source": [
    "b[0,0]\n",
    "b[1, -3:]\n",
    "b[:, -2]\n",
    "b[:, -2:-1]\n"
   ]
  },
  {
   "cell_type": "code",
   "execution_count": 17,
   "metadata": {},
   "outputs": [
    {
     "data": {
      "text/plain": [
       "array([[13],\n",
       "       [ 9],\n",
       "       [ 1]])"
      ]
     },
     "execution_count": 17,
     "metadata": {},
     "output_type": "execute_result"
    }
   ],
   "source": [
    "[[10,11,13,14], [45,22,9,2], [6,5,1,8]]\n",
    "# b[0][0]\n",
    "# b[1][1:]\n",
    "# subscripting [1st, 2nd, 3rd , ....., nth dim]\n",
    "# subscripting [1st:1st end: stepsize, 2nd, 3rd , ....., nth dim]\n",
    "b[0,0]\n",
    "b[1, -3:]\n",
    "b[:, -2]\n",
    "b[:, -2:-1]"
   ]
  },
  {
   "cell_type": "code",
   "execution_count": 18,
   "metadata": {},
   "outputs": [
    {
     "data": {
      "text/plain": [
       "(3,)"
      ]
     },
     "execution_count": 18,
     "metadata": {},
     "output_type": "execute_result"
    }
   ],
   "source": [
    "b[:, -2].shape"
   ]
  },
  {
   "cell_type": "code",
   "execution_count": 19,
   "metadata": {},
   "outputs": [
    {
     "data": {
      "text/plain": [
       "[7]"
      ]
     },
     "execution_count": 19,
     "metadata": {},
     "output_type": "execute_result"
    }
   ],
   "source": [
    "k = [3,5,7,3,7,89,3]\n",
    "k[2:3]"
   ]
  },
  {
   "cell_type": "code",
   "execution_count": 20,
   "metadata": {},
   "outputs": [
    {
     "name": "stdout",
     "output_type": "stream",
     "text": [
      "[[6 5 1 8]]\n",
      "[[[ 10 100]\n",
      "  [ 11 110]]]\n",
      "[[[11]]\n",
      "\n",
      " [[22]]\n",
      "\n",
      " [[ 5]]]\n",
      "[[[2]]\n",
      "\n",
      " [[8]]]\n",
      "[[[ 13 130]\n",
      "  [ 14 140]]\n",
      "\n",
      " [[  9  19]\n",
      "  [  2  12]]]\n"
     ]
    }
   ],
   "source": [
    "print(b[-1:,:])\n",
    "print(c[:1, :2, :])\n",
    "print(c[:, 1:2, :1])\n",
    "print(c[-2:, -1:, :1])\n",
    "print(c[:2, -2:, :])"
   ]
  },
  {
   "cell_type": "code",
   "execution_count": 21,
   "metadata": {},
   "outputs": [
    {
     "data": {
      "text/plain": [
       "array([[10, 11, 13, 14],\n",
       "       [45, 22, 90,  2],\n",
       "       [ 6,  5,  1,  8]])"
      ]
     },
     "execution_count": 21,
     "metadata": {},
     "output_type": "execute_result"
    }
   ],
   "source": [
    "# Item Assignment\n",
    "b[1,2] = 90\n",
    "b"
   ]
  },
  {
   "cell_type": "code",
   "execution_count": 22,
   "metadata": {},
   "outputs": [
    {
     "data": {
      "text/plain": [
       "array([ 3,  8,  4, 89, 45, 80])"
      ]
     },
     "execution_count": 22,
     "metadata": {},
     "output_type": "execute_result"
    }
   ],
   "source": [
    "# Item Insertion\n",
    "a = np.append(a, 80)\n",
    "a"
   ]
  },
  {
   "cell_type": "code",
   "execution_count": 23,
   "metadata": {},
   "outputs": [
    {
     "data": {
      "text/plain": [
       "array([[  10,   11,   13,   14],\n",
       "       [  45,   22,   90,    2],\n",
       "       [   6,    5,    1,    8],\n",
       "       [   9,   90,  900, 9000]])"
      ]
     },
     "execution_count": 23,
     "metadata": {},
     "output_type": "execute_result"
    }
   ],
   "source": [
    "np.append(b, [[9,90,900,9000]], axis = 0)  # axis = 0-> Row, 1->Col"
   ]
  },
  {
   "cell_type": "code",
   "execution_count": 24,
   "metadata": {},
   "outputs": [
    {
     "data": {
      "text/plain": [
       "array([[ 10,  11,  13,  14,   9],\n",
       "       [ 45,  22,  90,   2,  90],\n",
       "       [  6,   5,   1,   8, 900]])"
      ]
     },
     "execution_count": 24,
     "metadata": {},
     "output_type": "execute_result"
    }
   ],
   "source": [
    "np.append(b, [[9],[90],[900]], axis = 1)"
   ]
  },
  {
   "cell_type": "code",
   "execution_count": 25,
   "metadata": {},
   "outputs": [],
   "source": [
    "# Item Deletion\n",
    "# del a[-1]  # This won't work\n",
    "b1 = b.copy()"
   ]
  },
  {
   "cell_type": "code",
   "execution_count": 26,
   "metadata": {},
   "outputs": [
    {
     "data": {
      "text/plain": [
       "array([[10, 11, 13, 14],\n",
       "       [45, 22, 90,  2],\n",
       "       [ 6,  5,  1,  8]])"
      ]
     },
     "execution_count": 26,
     "metadata": {},
     "output_type": "execute_result"
    }
   ],
   "source": [
    "b1"
   ]
  },
  {
   "cell_type": "code",
   "execution_count": 27,
   "metadata": {},
   "outputs": [
    {
     "data": {
      "text/plain": [
       "array([[45, 22, 90,  2],\n",
       "       [ 6,  5,  1,  8]])"
      ]
     },
     "execution_count": 27,
     "metadata": {},
     "output_type": "execute_result"
    }
   ],
   "source": [
    "np.delete(b1, 0, axis=0)"
   ]
  },
  {
   "cell_type": "code",
   "execution_count": 28,
   "metadata": {},
   "outputs": [],
   "source": [
    "# Arithmetic Operations"
   ]
  },
  {
   "cell_type": "code",
   "execution_count": 29,
   "metadata": {},
   "outputs": [
    {
     "data": {
      "text/plain": [
       "array([[-10,  -9,  -7,  -6],\n",
       "       [ 25,   2,  70, -18],\n",
       "       [-14, -15, -19, -12]])"
      ]
     },
     "execution_count": 29,
     "metadata": {},
     "output_type": "execute_result"
    }
   ],
   "source": [
    "b1 -20"
   ]
  },
  {
   "cell_type": "code",
   "execution_count": 30,
   "metadata": {},
   "outputs": [
    {
     "data": {
      "text/plain": [
       "array([[ 30,  31,  33,  34],\n",
       "       [ 65,  42, 110,  22],\n",
       "       [ 26,  25,  21,  28]])"
      ]
     },
     "execution_count": 30,
     "metadata": {},
     "output_type": "execute_result"
    }
   ],
   "source": [
    "b1 + 20"
   ]
  },
  {
   "cell_type": "code",
   "execution_count": 31,
   "metadata": {},
   "outputs": [],
   "source": [
    "# More functions to create array\n",
    "##################################\n",
    "## np.array()\n",
    "## np.arange()  -> array version of range func, also allows float\n",
    "## np.linspace() -> start, end, no. of items\n",
    "## np.ones() -> generate all values as '1'\n",
    "## np.zeros() -> generate all values as '0'\n",
    "## np.random.random()\n",
    "## np.random.randint()"
   ]
  },
  {
   "cell_type": "code",
   "execution_count": 32,
   "metadata": {},
   "outputs": [
    {
     "data": {
      "text/plain": [
       "array([[[[10]],\n",
       "\n",
       "        [[11]],\n",
       "\n",
       "        [[13]],\n",
       "\n",
       "        [[14]],\n",
       "\n",
       "        [[45]],\n",
       "\n",
       "        [[22]]],\n",
       "\n",
       "\n",
       "       [[[90]],\n",
       "\n",
       "        [[ 2]],\n",
       "\n",
       "        [[ 6]],\n",
       "\n",
       "        [[ 5]],\n",
       "\n",
       "        [[ 1]],\n",
       "\n",
       "        [[ 8]]]])"
      ]
     },
     "execution_count": 32,
     "metadata": {},
     "output_type": "execute_result"
    }
   ],
   "source": [
    "b1.reshape(2,6,1,1)"
   ]
  },
  {
   "cell_type": "code",
   "execution_count": 33,
   "metadata": {},
   "outputs": [
    {
     "data": {
      "text/plain": [
       "dtype('int32')"
      ]
     },
     "execution_count": 33,
     "metadata": {},
     "output_type": "execute_result"
    }
   ],
   "source": [
    "b.dtype"
   ]
  },
  {
   "cell_type": "code",
   "execution_count": 34,
   "metadata": {},
   "outputs": [
    {
     "data": {
      "text/plain": [
       "array([[10., 11., 13., 14.],\n",
       "       [45., 22., 90.,  2.],\n",
       "       [ 6.,  5.,  1.,  8.]])"
      ]
     },
     "execution_count": 34,
     "metadata": {},
     "output_type": "execute_result"
    }
   ],
   "source": [
    "\n",
    "b.astype(float)"
   ]
  },
  {
   "cell_type": "code",
   "execution_count": 35,
   "metadata": {},
   "outputs": [
    {
     "data": {
      "text/plain": [
       "array([[10, 11, 13, 14],\n",
       "       [45, 22, 90,  2],\n",
       "       [ 6,  5,  1,  8]], dtype=uint16)"
      ]
     },
     "execution_count": 35,
     "metadata": {},
     "output_type": "execute_result"
    }
   ],
   "source": [
    "\n",
    "b.astype('uint16')"
   ]
  },
  {
   "cell_type": "code",
   "execution_count": 36,
   "metadata": {},
   "outputs": [
    {
     "data": {
      "text/plain": [
       "array([[5, 5, 5, 5],\n",
       "       [5, 5, 5, 5],\n",
       "       [5, 5, 5, 5]])"
      ]
     },
     "execution_count": 36,
     "metadata": {},
     "output_type": "execute_result"
    }
   ],
   "source": [
    "np.ones((3,4), dtype='int') * 5"
   ]
  },
  {
   "cell_type": "code",
   "execution_count": null,
   "metadata": {},
   "outputs": [],
   "source": []
  }
 ],
 "metadata": {
  "kernelspec": {
   "display_name": "Python 3",
   "language": "python",
   "name": "python3"
  },
  "language_info": {
   "codemirror_mode": {
    "name": "ipython",
    "version": 3
   },
   "file_extension": ".py",
   "mimetype": "text/x-python",
   "name": "python",
   "nbconvert_exporter": "python",
   "pygments_lexer": "ipython3",
   "version": "3.10.11"
  },
  "orig_nbformat": 4
 },
 "nbformat": 4,
 "nbformat_minor": 2
}
