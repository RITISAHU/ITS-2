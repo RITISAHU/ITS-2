{
 "cells": [
  {
   "cell_type": "code",
   "execution_count": 12,
   "metadata": {},
   "outputs": [
    {
     "ename": "AttributeError",
     "evalue": "module 'cv2' has no attribute 'destroyedAllwindow'",
     "output_type": "error",
     "traceback": [
      "\u001b[1;31m---------------------------------------------------------------------------\u001b[0m",
      "\u001b[1;31mAttributeError\u001b[0m                            Traceback (most recent call last)",
      "Cell \u001b[1;32mIn[12], line 12\u001b[0m\n\u001b[0;32m      9\u001b[0m         \u001b[39mif\u001b[39;00m key \u001b[39m==\u001b[39m \u001b[39mord\u001b[39m(\u001b[39m'\u001b[39m\u001b[39mx\u001b[39m\u001b[39m'\u001b[39m):\n\u001b[0;32m     10\u001b[0m            \u001b[39mbreak\u001b[39;00m\n\u001b[1;32m---> 12\u001b[0m cv2\u001b[39m.\u001b[39;49mdestroyedAllwindow();cv2\u001b[39m.\u001b[39mwaitkey(\u001b[39m1\u001b[39m) \n\u001b[0;32m     13\u001b[0m vid\u001b[39m.\u001b[39mrelease()\n",
      "\u001b[1;31mAttributeError\u001b[0m: module 'cv2' has no attribute 'destroyedAllwindow'"
     ]
    },
    {
     "ename": "",
     "evalue": "",
     "output_type": "error",
     "traceback": [
      "\u001b[1;31mThe Kernel crashed while executing code in the the current cell or a previous cell. Please review the code in the cell(s) to identify a possible cause of the failure. Click <a href='https://aka.ms/vscodeJupyterKernelCrash'>here</a> for more info. View Jupyter <a href='command:jupyter.viewOutput'>log</a> for further details."
     ]
    }
   ],
   "source": [
    "import cv2\n",
    "vid = cv2.VideoCapture(0)\n",
    "while True:\n",
    "    ack, img = vid.read()\n",
    "    if ack:\n",
    "        \n",
    "        cv2.imshow('preview', img)\n",
    "        key = cv2.waitKey(1)\n",
    "        if key == ord('x'):\n",
    "           break\n",
    "       \n",
    "cv2.destroyedAllwindow();cv2.waitkey(1) \n",
    "vid.release()"
   ]
  },
  {
   "cell_type": "code",
   "execution_count": 1,
   "metadata": {},
   "outputs": [],
   "source": [
    "import cv2, skimage as ski\n",
    "vid = cv2.VideoCapture(0)\n",
    "while True:\n",
    "    ack, img = vid.read()\n",
    "    if ack:\n",
    "        th, red_bw = cv2.threshold(\n",
    "            cv2.subtract(\n",
    "                img[:,:,-1],cv2.cvtColor(img, cv2.COLOR_BGR2GRAY)\n",
    "            ),80, 255,cv2.THRESH_BINARY\n",
    "                \n",
    "        )\n",
    "        strel = cv2.getStructuringElement(cv2.MORPH_RECT, (20, 20))\n",
    "        red_bw = cv2.morphologyEx(\n",
    "            red_bw, cv2.MORPH_CLOSE,strel, iterations=1\n",
    "        )\n",
    "        \n",
    "        red_bw = ski.morphology.remove_small_objects(\n",
    "            red_bw.astype(bool),3000\n",
    "        ).astype('uint8') * 255\n",
    "        red_bw = ski.morphology.remove_small_holes(\n",
    "            red_bw.astype(bool),3000\n",
    "        ).astype('uint8') * 255\n",
    "        \n",
    "        \n",
    "        rps = ski.measure.regionprops(\n",
    "            ski.measure.label(red_bw.astype(bool))\n",
    "        )\n",
    "        \n",
    "        count = len(rps)\n",
    "        img_copy = img.copy()\n",
    "        cv2.putText(img_copy, str(count),(150,150),\n",
    "                    cv2.FONT_HERSHEY_PLAIN, 10, (0,0,255),10\n",
    "        )\n",
    "        for rp in rps:\n",
    "            y1,x1,y2,x2 = rp.bbox\n",
    "            cv2.rectangle(img_copy, (x1,y1),(x2,y2),(0,0,255),thickness=1)\n",
    "        \n",
    "        \n",
    "        cv2.imshow('preview', red_bw)\n",
    "        key = cv2.waitKey(1)\n",
    "        if key == ord('x'):\n",
    "           break\n",
    "       \n",
    "cv2.destroyedAllwindow();cv2.waitkey(1) \n",
    "vid.release() "
   ]
  },
  {
   "cell_type": "code",
   "execution_count": 4,
   "metadata": {},
   "outputs": [
    {
     "ename": "error",
     "evalue": "OpenCV(4.8.0) D:\\a\\opencv-python\\opencv-python\\opencv\\modules\\objdetect\\src\\cascadedetect.cpp:1689: error: (-215:Assertion failed) !empty() in function 'cv::CascadeClassifier::detectMultiScale'\n",
     "output_type": "error",
     "traceback": [
      "\u001b[1;31m---------------------------------------------------------------------------\u001b[0m",
      "\u001b[1;31merror\u001b[0m                                     Traceback (most recent call last)",
      "Cell \u001b[1;32mIn[4], line 9\u001b[0m\n\u001b[0;32m      7\u001b[0m ack, img \u001b[39m=\u001b[39m vid\u001b[39m.\u001b[39mread()\n\u001b[0;32m      8\u001b[0m \u001b[39mif\u001b[39;00m ack:\n\u001b[1;32m----> 9\u001b[0m     faces \u001b[39m=\u001b[39m fd\u001b[39m.\u001b[39;49mdetectMultiScale(img)\n\u001b[0;32m     10\u001b[0m     \u001b[39mif\u001b[39;00m \u001b[39mlen\u001b[39m(faces) \u001b[39m==\u001b[39m \u001b[39m1\u001b[39m:\n\u001b[0;32m     11\u001b[0m         \u001b[39mfor\u001b[39;00m x,y,w,h \u001b[39min\u001b[39;00m faces:\n",
      "\u001b[1;31merror\u001b[0m: OpenCV(4.8.0) D:\\a\\opencv-python\\opencv-python\\opencv\\modules\\objdetect\\src\\cascadedetect.cpp:1689: error: (-215:Assertion failed) !empty() in function 'cv::CascadeClassifier::detectMultiScale'\n"
     ]
    }
   ],
   "source": [
    "import cv2\n",
    "fd = cv2.CascadeClassifier(\n",
    "    cv2.data.haarcascades + 'haarcascade_frontalface_deafault.xml'\n",
    ")\n",
    "vid = cv2.VideoCapture(0)\n",
    "while True:\n",
    "    ack, img = vid.read()\n",
    "    if ack:\n",
    "        faces = fd.detectMultiScale(img)\n",
    "        if len(faces) == 1:\n",
    "            for x,y,w,h in faces:\n",
    "                cv2.rectangle(img, (x,y),(x+w,y+h),(255,255,255),10)\n",
    "                face_img = img[y:y+h,x:x+w, :].copy()\n",
    "                cv2.imwrite('face.png',face_img)    \n",
    "        \n",
    "        cv2.imshow('preview', img)\n",
    "        key = cv2.waitKey(1)\n",
    "        if key == ord('x'):\n",
    "           break\n",
    "       \n",
    "cv2.destroyedAllwindow();cv2.waitkey(1) \n",
    "vid.release()"
   ]
  },
  {
   "cell_type": "code",
   "execution_count": null,
   "metadata": {},
   "outputs": [],
   "source": []
  }
 ],
 "metadata": {
  "kernelspec": {
   "display_name": "Python 3",
   "language": "python",
   "name": "python3"
  },
  "language_info": {
   "codemirror_mode": {
    "name": "ipython",
    "version": 3
   },
   "file_extension": ".py",
   "mimetype": "text/x-python",
   "name": "python",
   "nbconvert_exporter": "python",
   "pygments_lexer": "ipython3",
   "version": "3.10.11"
  },
  "orig_nbformat": 4
 },
 "nbformat": 4,
 "nbformat_minor": 2
}
