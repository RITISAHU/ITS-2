{
 "cells": [
  {
   "cell_type": "code",
   "execution_count": 55,
   "metadata": {},
   "outputs": [
    {
     "name": "stdout",
     "output_type": "stream",
     "text": [
      "1\n",
      "2\n",
      "3\n"
     ]
    }
   ],
   "source": [
    "for element in [1, 2, 3]:\n",
    "    print(element)\n"
   ]
  },
  {
   "cell_type": "code",
   "execution_count": null,
   "metadata": {},
   "outputs": [
    {
     "data": {
      "text/plain": [
       "<__main__.Abc at 0xaa107a920>"
      ]
     },
     "execution_count": 6,
     "metadata": {},
     "output_type": "execute_result"
    }
   ],
   "source": [
    "# object oriented programming\n",
    "#class - template\n",
    "#object - instance\n",
    "class Abc:\n",
    "    pass\n",
    "x = Abc()\n",
    "x"
   ]
  },
  {
   "cell_type": "code",
   "execution_count": null,
   "metadata": {},
   "outputs": [],
   "source": [
    "# A class may have\n",
    "### 1. methods and functions\n",
    "# user defined function\n",
    "# special methods/dendurs/magic methods\n",
    "# decorated methods \n",
    "\n",
    "##### inheritance\n",
    "\n",
    "# single\n"
   ]
  },
  {
   "cell_type": "code",
   "execution_count": null,
   "metadata": {},
   "outputs": [
    {
     "name": "stdout",
     "output_type": "stream",
     "text": [
      "<__main__.Abc object at 0x0000000AA1079120>\n",
      "10 20\n"
     ]
    }
   ],
   "source": [
    "class Abc():\n",
    "    a = 10\n",
    "    b = 20\n",
    "    def show(p):\n",
    "        print(p.a,Abc.b)\n",
    "        \n",
    "x = Abc()\n",
    "print(x)\n",
    "x.show()  "
   ]
  },
  {
   "cell_type": "code",
   "execution_count": null,
   "metadata": {},
   "outputs": [],
   "source": [
    "x.a = 45\n",
    "y.a = 55\n",
    "Abc.b = 100\n"
   ]
  },
  {
   "cell_type": "code",
   "execution_count": null,
   "metadata": {},
   "outputs": [],
   "source": [
    "y = Abc()\n",
    "z = Abc()\n"
   ]
  },
  {
   "cell_type": "code",
   "execution_count": null,
   "metadata": {},
   "outputs": [
    {
     "name": "stdout",
     "output_type": "stream",
     "text": [
      "10 100\n"
     ]
    }
   ],
   "source": [
    "y.show()"
   ]
  },
  {
   "cell_type": "code",
   "execution_count": null,
   "metadata": {},
   "outputs": [
    {
     "name": "stdout",
     "output_type": "stream",
     "text": [
      "10 100\n"
     ]
    }
   ],
   "source": [
    "z.show()"
   ]
  },
  {
   "cell_type": "code",
   "execution_count": null,
   "metadata": {},
   "outputs": [
    {
     "name": "stdout",
     "output_type": "stream",
     "text": [
      "45 100\n",
      "10 100\n",
      "10 100\n"
     ]
    }
   ],
   "source": [
    "x.show()\n",
    "y.show()\n",
    "z.show()"
   ]
  },
  {
   "cell_type": "code",
   "execution_count": null,
   "metadata": {},
   "outputs": [
    {
     "name": "stdout",
     "output_type": "stream",
     "text": [
      "hi\n",
      "20 20\n",
      "20 20\n",
      "20 20\n",
      "20 30\n",
      "20 30\n",
      "20 30\n",
      "30 30\n"
     ]
    }
   ],
   "source": [
    "class Abc():\n",
    "    a = 10\n",
    "    b = 20\n",
    "    def __init__(self,a = 10,b = 20):\n",
    "        self.a = b\n",
    "        Abc.b = b\n",
    "    def __str__(self) -> str:\n",
    "        return \"hi\"\n",
    "    \n",
    "    #def __call__(self,*args: Any, **:Any) -> Any:\n",
    "     #   return sum(Args)\n",
    "        \n",
    "    def show(self):\n",
    "        print(self.a, Abc.b)\n",
    "        \n",
    "x = Abc()\n",
    "print(x)\n",
    "y = Abc(a = 30)\n",
    "z = Abc(a = 35)\n",
    "x.show(); y.show(); z.show()\n",
    "w = Abc(b = 30)\n",
    "x.show(); y.show(); z.show(); w.show()\n",
    "#x(5,8,2,5,7,4)\n",
    "            "
   ]
  },
  {
   "cell_type": "code",
   "execution_count": 54,
   "metadata": {},
   "outputs": [
    {
     "name": "stdout",
     "output_type": "stream",
     "text": [
      "its simple\n",
      "20\n"
     ]
    }
   ],
   "source": [
    "class Pqr(Abc):\n",
    "    \n",
    "    def __init__(Self, a=10, b=20):\n",
    "        super().__init__(a,b)\n",
    "    def simple(Self):\n",
    "        print(\"its simple\")\n",
    "    def show(self):\n",
    "        print(self.a)    \n",
    "\n",
    "p = Pqr(a = 30)\n",
    "p.simple()\n",
    "\n",
    "p.show() \n",
    "#p()       "
   ]
  },
  {
   "cell_type": "code",
   "execution_count": 2,
   "metadata": {},
   "outputs": [
    {
     "ename": "AttributeError",
     "evalue": "module 'tkinter' has no attribute 'variable'",
     "output_type": "error",
     "traceback": [
      "\u001b[1;31m---------------------------------------------------------------------------\u001b[0m",
      "\u001b[1;31mAttributeError\u001b[0m                            Traceback (most recent call last)",
      "Cell \u001b[1;32mIn[2], line 9\u001b[0m\n\u001b[0;32m      6\u001b[0m app\u001b[39m.\u001b[39mgeometry(\u001b[39m\"\u001b[39m\u001b[39m400x400\u001b[39m\u001b[39m\"\u001b[39m)\n\u001b[0;32m      7\u001b[0m app\u001b[39m.\u001b[39mtitle(\u001b[39m\"\u001b[39m\u001b[39mMy First GUI\u001b[39m\u001b[39m\"\u001b[39m)\n\u001b[1;32m----> 9\u001b[0m var1 \u001b[39m=\u001b[39m Ktr\u001b[39m.\u001b[39;49mvariable()\n\u001b[0;32m     10\u001b[0m var1 \u001b[39m=\u001b[39m \u001b[39mset\u001b[39m()\n\u001b[0;32m     12\u001b[0m \u001b[39m#a = Ktr.Label(app, text = \"Mera Phela Text\")\u001b[39;00m\n",
      "\u001b[1;31mAttributeError\u001b[0m: module 'tkinter' has no attribute 'variable'"
     ]
    }
   ],
   "source": [
    "#############\n",
    "## GUI Development  ##\n",
    "import tkinter as Ktr\n",
    "\n",
    "app = Ktr.Tk(__name__)\n",
    "app.geometry(\"400x400\")\n",
    "app.title(\"My First GUI\")\n",
    "\n",
    "var1 = Ktr.variable()\n",
    "var1 = set(\"Initial Value\")\n",
    "\n",
    "#a = Ktr.Label(app, text = \"Mera Phela Text\")\n",
    "a = Ktr.Label(app, textvariable-var1)\n",
    "a.grid(row=0,column=1)\n",
    "\n",
    "a.pack()\n",
    "\n",
    "Ktr.Label(app, text = \"ye dusera threka ha\").pack()\n",
    "\n",
    "\n",
    "app.mainloop()"
   ]
  },
  {
   "cell_type": "code",
   "execution_count": null,
   "metadata": {},
   "outputs": [],
   "source": []
  }
 ],
 "metadata": {
  "kernelspec": {
   "display_name": "Python 3",
   "language": "python",
   "name": "python3"
  },
  "language_info": {
   "codemirror_mode": {
    "name": "ipython",
    "version": 3
   },
   "file_extension": ".py",
   "mimetype": "text/x-python",
   "name": "python",
   "nbconvert_exporter": "python",
   "pygments_lexer": "ipython3",
   "version": "3.10.11"
  },
  "orig_nbformat": 4
 },
 "nbformat": 4,
 "nbformat_minor": 2
}
